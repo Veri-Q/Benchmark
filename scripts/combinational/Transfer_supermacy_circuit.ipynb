{
 "cells": [
  {
   "cell_type": "code",
   "execution_count": null,
   "metadata": {},
   "outputs": [],
   "source": [
    "path=\"7x7_cz/\"\n",
    "file_name='inst_7x7_30_0.txt'\n",
    "file=open(path+file_name)\n",
    "\n",
    "file_name2=file_name[:-4]+'.qasm'\n",
    "f=open(path+file_name2,'w')\n",
    "\n",
    "A=file.readlines()\n",
    "qubits=int(A[0])\n",
    "\n",
    "print(qubits)\n",
    "A.pop(0)\n",
    "f.write('OPENQASM 2.0;\\n')\n",
    "f.write('include \"qelib1.inc\";\\n')\n",
    "qreg = 'qreg q['+str(qubits)+'];\\n'\n",
    "f.write(qreg)\n",
    "creg='creg c['+str(qubits)+'];\\n'\n",
    "f.write(creg)\n",
    "\n",
    "for line in A:\n",
    "    s=line[:-1].split(' ')\n",
    "    if s[1]=='is':\n",
    "#         g='iswap q['+str(s[2])+'],q['+str(s[3])+'];\\n'\n",
    "        g1='s'+' q['+str(s[2])+'];\\n'\n",
    "        g2='s'+' q['+str(s[3])+'];\\n'\n",
    "        g3='h'+' q['+str(s[2])+'];\\n'\n",
    "        g4='cx q['+str(s[2])+'],q['+str(s[3])+'];\\n'\n",
    "        g5='cx q['+str(s[3])+'],q['+str(s[2])+'];\\n'\n",
    "        f.write(g1)\n",
    "        f.write(g2)\n",
    "        f.write(g3)\n",
    "        f.write(g4)\n",
    "        f.write(g5)\n",
    "        g='h'+' q['+str(s[3])+'];\\n'\n",
    "    elif s[1]=='x_1_2':\n",
    "        g='rx(pi/2) q['+str(s[2])+'];\\n'\n",
    "    elif s[1]=='y_1_2':\n",
    "        g='ry(pi/2) q['+str(s[2])+'];\\n'\n",
    "    elif s[1]=='cz':\n",
    "        g='cz q['+str(s[2])+'],q['+str(s[3])+'];\\n'\n",
    "    else:\n",
    "        g=s[1]+' q['+str(s[2])+'];\\n'\n",
    "    f.write(g) \n",
    "f.close()\n",
    "file.close()"
   ]
  }
 ],
 "metadata": {
  "kernelspec": {
   "display_name": "Python 3",
   "language": "python",
   "name": "python3"
  },
  "language_info": {
   "codemirror_mode": {
    "name": "ipython",
    "version": 3
   },
   "file_extension": ".py",
   "mimetype": "text/x-python",
   "name": "python",
   "nbconvert_exporter": "python",
   "pygments_lexer": "ipython3",
   "version": "3.7.6"
  }
 },
 "nbformat": 4,
 "nbformat_minor": 4
}
